{
 "cells": [
  {
   "cell_type": "markdown",
   "metadata": {},
   "source": [
    "## Control flow (If, for loop, while loop)"
   ]
  },
  {
   "cell_type": "markdown",
   "metadata": {},
   "source": [
    "### If statement"
   ]
  },
  {
   "cell_type": "markdown",
   "metadata": {},
   "source": [
    "Une instruction if teste une condition, puis réagit à cette condition. Si la condition est vraie, l'action suivante est exécutée. Vous pouvez tester plusieurs conditions en même temps et répondre de manière appropriée à chacune d'elles."
   ]
  },
  {
   "cell_type": "markdown",
   "metadata": {},
   "source": [
    "#### Exemple\n",
    "\n",
    "Voici un exemple qui montre un certain nombre de desserts que j'aime. Il énumère ces desserts, mais vous permet de savoir lequel est mon préféré."
   ]
  },
  {
   "cell_type": "code",
   "execution_count": 2,
   "metadata": {},
   "outputs": [
    {
     "name": "stdout",
     "output_type": "stream",
     "text": [
      "I like ice cream.\n",
      "I like chocolate.\n",
      "Apple Crisp is my favorite dessert!\n",
      "I like cookies.\n"
     ]
    }
   ],
   "source": [
    "# A list of desserts I like.\n",
    "desserts = ['ice cream', 'chocolate', 'apple crisp', 'cookies']\n",
    "favorite_dessert = 'apple crisp'\n",
    "\n",
    "#Affiche les desserts et laisse les autres savoir mon preféré.\n",
    "for dessert in desserts:\n",
    "    if dessert == favorite_dessert:\n",
    "        # ce dessert est mon preféré, fais-le savoir à tout le monde!\n",
    "        print(\"%s is my favorite dessert!\" % dessert.title())\n",
    "    else:\n",
    "        # J'aime ces desserts, mais ils ne sont pas mes preférés.\n",
    "        print(\"I like %s.\" % dessert)"
   ]
  },
  {
   "cell_type": "code",
   "execution_count": 1,
   "metadata": {},
   "outputs": [
    {
     "name": "stdout",
     "output_type": "stream",
     "text": [
      "ice cream\n",
      "chocolate\n",
      "apple crisp\n",
      "cookies\n"
     ]
    }
   ],
   "source": [
    "desserts = ['ice cream', 'chocolate', 'apple crisp', 'cookies']\n",
    "for dessert in desserts:\n",
    "    print(dessert)"
   ]
  },
  {
   "cell_type": "markdown",
   "metadata": {},
   "source": [
    "#### Qu'est-ce qui se passe dans ce programme?"
   ]
  },
  {
   "cell_type": "markdown",
   "metadata": {},
   "source": [
    "* Le programme commence par une liste de desserts, et un dessert est identifié comme favori.\n",
    "* La boucle for parcourt tous les desserts.\n",
    "* À l'intérieur de la boucle for, chaque élément de la liste est testé.\n",
    "\n",
    "    * Si la valeur actuelle du dessert est égale à la valeur de favorite_dessert, un message est imprimé indiquant qu'il s'agit de mon dessert préféré.\n",
    "    \n",
    "    * Si la valeur actuelle de dessert n'est pas égale à la valeur de favorite_dessert, un message est imprimé indiquant que j'aime simplement ce dessert.\n",
    "Vous pouvez tester autant de conditions que vous le souhaitez dans une instruction if."
   ]
  },
  {
   "cell_type": "markdown",
   "metadata": {},
   "source": [
    " ### Test Logique"
   ]
  },
  {
   "cell_type": "markdown",
   "metadata": {},
   "source": [
    "* egalié (==)\n",
    "* inegalité (!=)\n",
    "* autres inégalités\n",
    "    * supérieur à (>)\n",
    "    * supérieur ou égale à (>=)\n",
    "    * inférieur à (<)\n",
    "    * inférieur ou égale à(<=)\n",
    "* Vous pouvez tester si un élément est dans la liste.\n"
   ]
  },
  {
   "cell_type": "markdown",
   "metadata": {},
   "source": [
    "#### Egalité"
   ]
  },
  {
   "cell_type": "markdown",
   "metadata": {},
   "source": [
    "Deux éléments sont égaux s'ils ont la même valeur. Vous pouvez tester l'égalité entre des nombres, des chaînes de caractères et un certain nombre d'autres objets que vous découvrirez plus tard. Certains de ces résultats peuvent être surprenants, alors examinez attentivement les exemples ci-dessous.\n",
    "\n",
    "En Python, comme dans de nombreux langages de programmation, deux signes égaux permettent de tester l'égalité.\n",
    "\n",
    "Attention ! Faites attention à ne pas utiliser accidentellement un seul signe égal, ce qui peut vraiment perturber les choses, car ce signe égal donne en fait à votre objet la valeur que vous testez !"
   ]
  },
  {
   "cell_type": "code",
   "execution_count": 4,
   "metadata": {},
   "outputs": [
    {
     "data": {
      "text/plain": [
       "True"
      ]
     },
     "execution_count": 4,
     "metadata": {},
     "output_type": "execute_result"
    }
   ],
   "source": [
    "5 == 5"
   ]
  },
  {
   "cell_type": "code",
   "execution_count": 5,
   "metadata": {},
   "outputs": [
    {
     "data": {
      "text/plain": [
       "False"
      ]
     },
     "execution_count": 5,
     "metadata": {},
     "output_type": "execute_result"
    }
   ],
   "source": [
    "3 == 5 "
   ]
  },
  {
   "cell_type": "code",
   "execution_count": 6,
   "metadata": {},
   "outputs": [
    {
     "data": {
      "text/plain": [
       "True"
      ]
     },
     "execution_count": 6,
     "metadata": {},
     "output_type": "execute_result"
    }
   ],
   "source": [
    "5 == 5.0"
   ]
  },
  {
   "cell_type": "code",
   "execution_count": 7,
   "metadata": {},
   "outputs": [
    {
     "data": {
      "text/plain": [
       "True"
      ]
     },
     "execution_count": 7,
     "metadata": {},
     "output_type": "execute_result"
    }
   ],
   "source": [
    "'eric' == 'eric'"
   ]
  },
  {
   "cell_type": "code",
   "execution_count": 8,
   "metadata": {},
   "outputs": [
    {
     "data": {
      "text/plain": [
       "False"
      ]
     },
     "execution_count": 8,
     "metadata": {},
     "output_type": "execute_result"
    }
   ],
   "source": [
    "'Eric' == 'eric'"
   ]
  },
  {
   "cell_type": "code",
   "execution_count": 9,
   "metadata": {},
   "outputs": [
    {
     "data": {
      "text/plain": [
       "True"
      ]
     },
     "execution_count": 9,
     "metadata": {},
     "output_type": "execute_result"
    }
   ],
   "source": [
    "'Eric'.lower() == 'eric'.lower()"
   ]
  },
  {
   "cell_type": "code",
   "execution_count": 12,
   "metadata": {},
   "outputs": [
    {
     "data": {
      "text/plain": [
       "'ERIC'"
      ]
     },
     "execution_count": 12,
     "metadata": {},
     "output_type": "execute_result"
    }
   ],
   "source": [
    "f='eric'\n",
    "f.upper()"
   ]
  },
  {
   "cell_type": "code",
   "execution_count": 13,
   "metadata": {},
   "outputs": [
    {
     "data": {
      "text/plain": [
       "False"
      ]
     },
     "execution_count": 13,
     "metadata": {},
     "output_type": "execute_result"
    }
   ],
   "source": [
    "'5' == 5"
   ]
  },
  {
   "cell_type": "code",
   "execution_count": 14,
   "metadata": {},
   "outputs": [
    {
     "data": {
      "text/plain": [
       "True"
      ]
     },
     "execution_count": 14,
     "metadata": {},
     "output_type": "execute_result"
    }
   ],
   "source": [
    "'5' == str(5)"
   ]
  },
  {
   "cell_type": "code",
   "execution_count": 15,
   "metadata": {},
   "outputs": [
    {
     "data": {
      "text/plain": [
       "'5'"
      ]
     },
     "execution_count": 15,
     "metadata": {},
     "output_type": "execute_result"
    }
   ],
   "source": [
    "a=5\n",
    "b=str(a)\n",
    "b"
   ]
  },
  {
   "cell_type": "markdown",
   "metadata": {},
   "source": [
    "#### Inegalité"
   ]
  },
  {
   "cell_type": "markdown",
   "metadata": {},
   "source": [
    "Deux éléments sont inégaux s'ils n'ont pas la même valeur. En Python, nous testons l'inégalité en utilisant le point d'exclamation et le signe égal.\n",
    "\n",
    "Parfois, vous souhaitez tester l'égalité et, en cas d'échec, supposer l'inégalité. Parfois, il est plus logique de tester l'inégalité directement."
   ]
  },
  {
   "cell_type": "code",
   "execution_count": 16,
   "metadata": {},
   "outputs": [
    {
     "data": {
      "text/plain": [
       "True"
      ]
     },
     "execution_count": 16,
     "metadata": {},
     "output_type": "execute_result"
    }
   ],
   "source": [
    "3 != 5"
   ]
  },
  {
   "cell_type": "code",
   "execution_count": 17,
   "metadata": {},
   "outputs": [
    {
     "data": {
      "text/plain": [
       "False"
      ]
     },
     "execution_count": 17,
     "metadata": {},
     "output_type": "execute_result"
    }
   ],
   "source": [
    "5 != 5"
   ]
  },
  {
   "cell_type": "code",
   "execution_count": 18,
   "metadata": {},
   "outputs": [
    {
     "data": {
      "text/plain": [
       "True"
      ]
     },
     "execution_count": 18,
     "metadata": {},
     "output_type": "execute_result"
    }
   ],
   "source": [
    "'Eric' != 'eric'"
   ]
  },
  {
   "cell_type": "markdown",
   "metadata": {},
   "source": [
    "#### Autres inegalités"
   ]
  },
  {
   "cell_type": "code",
   "execution_count": 19,
   "metadata": {},
   "outputs": [
    {
     "data": {
      "text/plain": [
       "True"
      ]
     },
     "execution_count": 19,
     "metadata": {},
     "output_type": "execute_result"
    }
   ],
   "source": [
    "5 > 3"
   ]
  },
  {
   "cell_type": "code",
   "execution_count": 20,
   "metadata": {},
   "outputs": [
    {
     "data": {
      "text/plain": [
       "True"
      ]
     },
     "execution_count": 20,
     "metadata": {},
     "output_type": "execute_result"
    }
   ],
   "source": [
    "5 >= 3"
   ]
  },
  {
   "cell_type": "code",
   "execution_count": 21,
   "metadata": {},
   "outputs": [
    {
     "data": {
      "text/plain": [
       "True"
      ]
     },
     "execution_count": 21,
     "metadata": {},
     "output_type": "execute_result"
    }
   ],
   "source": [
    "3 >= 3"
   ]
  },
  {
   "cell_type": "code",
   "execution_count": 22,
   "metadata": {},
   "outputs": [
    {
     "data": {
      "text/plain": [
       "True"
      ]
     },
     "execution_count": 22,
     "metadata": {},
     "output_type": "execute_result"
    }
   ],
   "source": [
    "3 < 5"
   ]
  },
  {
   "cell_type": "code",
   "execution_count": 23,
   "metadata": {},
   "outputs": [
    {
     "data": {
      "text/plain": [
       "True"
      ]
     },
     "execution_count": 23,
     "metadata": {},
     "output_type": "execute_result"
    }
   ],
   "source": [
    "3 <= 5"
   ]
  },
  {
   "cell_type": "code",
   "execution_count": 24,
   "metadata": {},
   "outputs": [
    {
     "data": {
      "text/plain": [
       "True"
      ]
     },
     "execution_count": 24,
     "metadata": {},
     "output_type": "execute_result"
    }
   ],
   "source": [
    "3 <= 3"
   ]
  },
  {
   "cell_type": "markdown",
   "metadata": {},
   "source": [
    "#### Verifier l'appertenance d'un élément à la liste"
   ]
  },
  {
   "cell_type": "code",
   "execution_count": 25,
   "metadata": {},
   "outputs": [
    {
     "data": {
      "text/plain": [
       "True"
      ]
     },
     "execution_count": 25,
     "metadata": {},
     "output_type": "execute_result"
    }
   ],
   "source": [
    "vowels = ['a', 'e', 'i', 'o', 'u']\n",
    "'a' in vowels"
   ]
  },
  {
   "cell_type": "code",
   "execution_count": 26,
   "metadata": {},
   "outputs": [
    {
     "data": {
      "text/plain": [
       "False"
      ]
     },
     "execution_count": 26,
     "metadata": {},
     "output_type": "execute_result"
    }
   ],
   "source": [
    "vowels = ['a', 'e', 'i', 'o', 'u']\n",
    "'b' in vowels"
   ]
  },
  {
   "cell_type": "markdown",
   "metadata": {},
   "source": [
    "### if-elif...else chaine"
   ]
  },
  {
   "cell_type": "markdown",
   "metadata": {},
   "source": [
    "Vous pouvez tester n'importe quelle série de conditions, et vous pouvez tester vos conditions dans n'importe quelle combinaison."
   ]
  },
  {
   "cell_type": "markdown",
   "metadata": {},
   "source": [
    "#### Simple condition if"
   ]
  },
  {
   "cell_type": "markdown",
   "metadata": {},
   "source": [
    "Le test le plus simple comporte une seule instruction if, et une seule instruction à exécuter si la condition est vraie."
   ]
  },
  {
   "cell_type": "code",
   "execution_count": 1,
   "metadata": {},
   "outputs": [],
   "source": [
    "chiens = ['willie', 'hootz', 'peso', 'juno']\n",
    "\n",
    "if len(chiens) > 4:\n",
    "    print(\"Wow, on a beaucoup de chiens ici!\")"
   ]
  },
  {
   "cell_type": "markdown",
   "metadata": {},
   "source": [
    "Dans cette situation, rien ne se passe si le test ne passe pas (la condition n'est pas respectée)"
   ]
  },
  {
   "cell_type": "code",
   "execution_count": 28,
   "metadata": {},
   "outputs": [
    {
     "data": {
      "text/plain": [
       "4"
      ]
     },
     "execution_count": 28,
     "metadata": {},
     "output_type": "execute_result"
    }
   ],
   "source": [
    "chiens = ['willie', 'hootz', 'peso', 'juno']\n",
    "len(chiens)"
   ]
  },
  {
   "cell_type": "code",
   "execution_count": 29,
   "metadata": {},
   "outputs": [],
   "source": [
    "chiens = ['willie', 'hootz']\n",
    "\n",
    "if len(chiens) > 3:\n",
    "    print(\"Wow, on a beaucoup de chiens ici!\")"
   ]
  },
  {
   "cell_type": "code",
   "execution_count": 30,
   "metadata": {},
   "outputs": [
    {
     "data": {
      "text/plain": [
       "2"
      ]
     },
     "execution_count": 30,
     "metadata": {},
     "output_type": "execute_result"
    }
   ],
   "source": [
    "chiens = ['willie', 'hootz']\n",
    "len(chiens)"
   ]
  },
  {
   "cell_type": "markdown",
   "metadata": {},
   "source": [
    "Remarquez qu'il n'y a pas d'erreur. La condition len(dogs) > 3 est évaluée à False, et le programme passe à toutes les lignes après le bloc if."
   ]
  },
  {
   "cell_type": "markdown",
   "metadata": {},
   "source": [
    "#### If-else condition"
   ]
  },
  {
   "cell_type": "markdown",
   "metadata": {},
   "source": [
    "Souvent, vous voudrez répondre de deux manières possibles à un test. Si le test est évalué à Vrai, vous voudrez faire une chose. Si l'évaluation du test est fausse, vous voudrez faire autre chose. La structure if-else vous permet de le faire facilement. Voici à quoi elle ressemble :"
   ]
  },
  {
   "cell_type": "code",
   "execution_count": 31,
   "metadata": {},
   "outputs": [
    {
     "name": "stdout",
     "output_type": "stream",
     "text": [
      "Wow, on a beaucoup de chiens ici!\n"
     ]
    }
   ],
   "source": [
    "chiens = ['willie', 'hootz', 'peso', 'juno']\n",
    "\n",
    "if len(chiens) > 3:\n",
    "    print(\"Wow, on a beaucoup de chiens ici!\")\n",
    "else:\n",
    "    print(\"Ok, c'est un nombre raisonnable de chiens.\")"
   ]
  },
  {
   "cell_type": "markdown",
   "metadata": {},
   "source": [
    "Nos résultats n'ont pas changé dans ce cas, car si le test est évalué à True, seules les déclarations sous l'instruction if sont exécutées. Les instructions sous else ne sont exécutées que si le test échoue :"
   ]
  },
  {
   "cell_type": "code",
   "execution_count": 32,
   "metadata": {},
   "outputs": [
    {
     "name": "stdout",
     "output_type": "stream",
     "text": [
      "Ok, c'est un nombre raisonnable de chiens.\n"
     ]
    }
   ],
   "source": [
    "chiens = ['willie', 'hootz']\n",
    "\n",
    "if len(chiens) > 3:\n",
    "    print(\"Wow, on a beaucoup de chiens ici!\")\n",
    "else:\n",
    "    print(\"Ok, c'est un nombre raisonnable de chiens.\")"
   ]
  },
  {
   "cell_type": "markdown",
   "metadata": {},
   "source": [
    "Le test a donné la valeur False, donc seule l'instruction sous else est exécutée."
   ]
  },
  {
   "cell_type": "markdown",
   "metadata": {},
   "source": [
    "#### If-elif...else chaine"
   ]
  },
  {
   "cell_type": "markdown",
   "metadata": {},
   "source": [
    "Souvent, vous voudrez tester une série de conditions, plutôt qu'une simple situation de type \"ou bien\". Pour ce faire, vous pouvez utiliser une série d'instructions if-elif-else.\n",
    "\n",
    "Il n'y a pas de limite au nombre de conditions que vous pouvez tester. Vous avez toujours besoin d'une instruction if pour commencer la chaîne, et vous ne pouvez jamais avoir plus d'une instruction else. Mais vous pouvez avoir autant d'instructions elif que vous le souhaitez.\n"
   ]
  },
  {
   "cell_type": "code",
   "execution_count": 34,
   "metadata": {},
   "outputs": [
    {
     "name": "stdout",
     "output_type": "stream",
     "text": [
      "Bon sang, on pourrait aussi bien ouvrir une auberge pour chiens.!\n"
     ]
    }
   ],
   "source": [
    "chiens = ['willie', 'hootz', 'peso', 'monty', 'juno', 'turkey']\n",
    "\n",
    "if len(chiens) >= 5:\n",
    "    print(\"Bon sang, on pourrait aussi bien ouvrir une auberge pour chiens.!\")\n",
    "elif len(chiens) >= 3:\n",
    "    print(\"Wow, on a beaucoup de chiens ici!\")\n",
    "else:\n",
    "    print(\"Ok, c'est un nombre raisonnable de chiens.\")"
   ]
  },
  {
   "cell_type": "code",
   "execution_count": 33,
   "metadata": {},
   "outputs": [
    {
     "data": {
      "text/plain": [
       "6"
      ]
     },
     "execution_count": 33,
     "metadata": {},
     "output_type": "execute_result"
    }
   ],
   "source": [
    "chiens = ['willie', 'hootz', 'peso', 'monty', 'juno', 'turkey']\n",
    "len(chiens)"
   ]
  },
  {
   "cell_type": "markdown",
   "metadata": {},
   "source": [
    "Il est important de noter que dans des situations comme celle-ci, seul le premier test est évalué. Dans une chaîne if-elif-else, lorsqu'un test passe, les autres conditions sont ignorées."
   ]
  },
  {
   "cell_type": "code",
   "execution_count": 35,
   "metadata": {},
   "outputs": [
    {
     "data": {
      "text/plain": [
       "4"
      ]
     },
     "execution_count": 35,
     "metadata": {},
     "output_type": "execute_result"
    }
   ],
   "source": [
    "chiens = ['willie', 'hootz', 'peso', 'monty']\n",
    "len(chiens)"
   ]
  },
  {
   "cell_type": "code",
   "execution_count": 36,
   "metadata": {},
   "outputs": [
    {
     "name": "stdout",
     "output_type": "stream",
     "text": [
      "Wow, on a beaucoup de chiens ici!\n"
     ]
    }
   ],
   "source": [
    "chiens = ['willie', 'hootz', 'peso', 'monty']\n",
    "\n",
    "if len(chiens) >= 5:\n",
    "    print(\"Bon sang, on pourrait aussi bien ouvrir une auberge pour chiens.!\")\n",
    "elif len(chiens) >= 3:\n",
    "    print(\"Wow, on a beaucoup de chiens ici!\")\n",
    "else:\n",
    "    print(\"Ok, c'est un nombre raisonnable de chiens.\")"
   ]
  },
  {
   "cell_type": "code",
   "execution_count": 37,
   "metadata": {},
   "outputs": [
    {
     "name": "stdout",
     "output_type": "stream",
     "text": [
      "Ok, c'est un nombre raisonnable de chiens.\n"
     ]
    }
   ],
   "source": [
    "chiens = ['willie', 'hootz']\n",
    "\n",
    "if len(chiens) >= 5:\n",
    "    print(\"Bon sang, on pourrait aussi bien ouvrir une auberge pour chiens.!\")\n",
    "elif len(chiens) >= 3:\n",
    "    print(\"Wow, on a beaucoup de chiens ici!\")\n",
    "else:\n",
    "    print(\"Ok, c'est un nombre raisonnable de chiens.\")"
   ]
  },
  {
   "cell_type": "markdown",
   "metadata": {},
   "source": [
    "### Boucle for"
   ]
  },
  {
   "cell_type": "markdown",
   "metadata": {},
   "source": [
    "L'instruction de boucle for est le mécanisme d'itération le plus largement utilisé en Python.\n",
    "\n",
    "Presque toutes les structures en Python peuvent être itérées (élément par élément) par une boucle for\n",
    "\n",
    "une liste, un tuple, un dictionnaire..."
   ]
  },
  {
   "cell_type": "code",
   "execution_count": 38,
   "metadata": {},
   "outputs": [
    {
     "name": "stdout",
     "output_type": "stream",
     "text": [
      "T\n",
      "o\n",
      "a\n",
      "d\n",
      "o\n",
      "u\n",
      "m\n"
     ]
    }
   ],
   "source": [
    "s = \"Toadoum\" \n",
    "for i in s:\n",
    "    print(i)"
   ]
  },
  {
   "cell_type": "markdown",
   "metadata": {},
   "source": [
    "Python utilise l'indentation pour décider ce qui est à l'intérieur de la boucle et ce qui est à l'extérieur de la boucle. Le code qui se trouve à l'intérieur de la boucle sera exécuté pour chaque élément de la liste. Le code qui n'est pas indenté, qui vient après la boucle, sera exécuté une fois, comme le code normal."
   ]
  },
  {
   "cell_type": "code",
   "execution_count": 39,
   "metadata": {},
   "outputs": [
    {
     "name": "stdout",
     "output_type": "stream",
     "text": [
      "border collie\n",
      "australian cattle dog\n",
      "labrador retriever\n"
     ]
    }
   ],
   "source": [
    "chiens = ['border collie', 'australian cattle dog', 'labrador retriever']\n",
    "\n",
    "for dog in chiens:\n",
    "    print(dog)"
   ]
  },
  {
   "cell_type": "code",
   "execution_count": 40,
   "metadata": {},
   "outputs": [
    {
     "name": "stdout",
     "output_type": "stream",
     "text": [
      "Jaime border collies.\n",
      "Non, jaim vraiment border collies!\n",
      "\n",
      "Jaime australian cattle dogs.\n",
      "Non, jaim vraiment australian cattle dogs!\n",
      "\n",
      "Jaime labrador retrievers.\n",
      "Non, jaim vraiment labrador retrievers!\n",
      "\n",
      "\n",
      "C'est comment je me sens concernant les chiens.\n"
     ]
    }
   ],
   "source": [
    "chiens = ['border collie', 'australian cattle dog', 'labrador retriever']\n",
    "\n",
    "for dog in chiens:\n",
    "    print('Jaime ' + dog + 's.')\n",
    "    print('Non, jaim vraiment ' + dog +'s!\\n')\n",
    "    \n",
    "print(\"\\nC'est comment je me sens concernant les chiens.\")"
   ]
  },
  {
   "cell_type": "code",
   "execution_count": 42,
   "metadata": {},
   "outputs": [
    {
     "name": "stdout",
     "output_type": "stream",
     "text": [
      "bonjour \tmaman\n"
     ]
    }
   ],
   "source": [
    "f='bonjour \\tmaman'\n",
    "print(f)"
   ]
  },
  {
   "cell_type": "code",
   "execution_count": 44,
   "metadata": {},
   "outputs": [
    {
     "name": "stdout",
     "output_type": "stream",
     "text": [
      "s'il vous plait entrer votre texte:Bonjour comment vas-tu\n",
      "Le nombre Total est: 3\n"
     ]
    }
   ],
   "source": [
    "str1=input(\"s'il vous plait entrer votre texte:\")\n",
    "total=1\n",
    "for i in range(len(str1)):\n",
    "    if (str1[i]==' ' or str1=='\\n' or str1=='\\t'):\n",
    "        total=total+1\n",
    "print(\"Le nombre Total est:\", total)"
   ]
  },
  {
   "cell_type": "code",
   "execution_count": 47,
   "metadata": {},
   "outputs": [
    {
     "name": "stdout",
     "output_type": "stream",
     "text": [
      "3\n"
     ]
    }
   ],
   "source": [
    "f=\"bonjour comment vas-tu\"\n",
    "g=f.split(' ')\n",
    "print(len(g))"
   ]
  },
  {
   "cell_type": "markdown",
   "metadata": {},
   "source": [
    "###  Boucle While "
   ]
  },
  {
   "cell_type": "markdown",
   "metadata": {},
   "source": [
    "Une boucle while teste une condition initiale. Si cette condition est vraie, la boucle commence à s'exécuter. Chaque fois que la boucle se termine, la condition est réévaluée. Tant que la condition reste vraie, la boucle continue de s'exécuter. Dès que la condition devient fausse, la boucle arrête de s'exécuter."
   ]
  },
  {
   "cell_type": "markdown",
   "metadata": {},
   "source": [
    "* Chaque boucle while a besoin d'une condition initiale qui commence par être vraie.\n",
    "* L'instruction while inclut une condition à tester.\n",
    "* Tout le code de la boucle s'exécute tant que la condition reste vraie.\n",
    "* Dès que quelque chose dans la boucle modifie la condition de telle sorte que le test ne passe plus, la boucle arrête de s'exécuter.\n",
    "* Tout code défini après la boucle s'exécutera à ce moment-là."
   ]
  },
  {
   "cell_type": "code",
   "execution_count": 48,
   "metadata": {},
   "outputs": [
    {
     "name": "stdout",
     "output_type": "stream",
     "text": [
      "vous jouez toujours, parceque votre puissance est 5.\n",
      "vous jouez toujours, parceque votre puissance est 4.\n",
      "vous jouez toujours, parceque votre puissance est 3.\n",
      "vous jouez toujours, parceque votre puissance est 2.\n",
      "vous jouez toujours, parceque votre puissance est 1.\n",
      "\n",
      "Oh non, votre puissance est à zéro.\n"
     ]
    }
   ],
   "source": [
    "# La puissance du joueur commence à 5.\n",
    "power = 5\n",
    "\n",
    "# Le joueur peut continuer à jouer tant que sa puissance est supérieure à 0..\n",
    "while power > 0:\n",
    "    print(\"vous jouez toujours, parceque votre puissance est %d.\" % power)\n",
    "    # Le code de votre jeu se trouve ici, et comprend les défis qui le rendent\n",
    "    #   possible de perdre la puissance.\n",
    "    # Nous pouvons représenter cela en retirant simplement du pouvoir.\n",
    "    power = power - 1\n",
    "    \n",
    "print(\"\\nOh non, votre puissance est à zéro.\")"
   ]
  },
  {
   "cell_type": "code",
   "execution_count": null,
   "metadata": {},
   "outputs": [],
   "source": []
  }
 ],
 "metadata": {
  "kernelspec": {
   "display_name": "Python 3",
   "language": "python",
   "name": "python3"
  },
  "language_info": {
   "codemirror_mode": {
    "name": "ipython",
    "version": 3
   },
   "file_extension": ".py",
   "mimetype": "text/x-python",
   "name": "python",
   "nbconvert_exporter": "python",
   "pygments_lexer": "ipython3",
   "version": "3.7.6"
  }
 },
 "nbformat": 4,
 "nbformat_minor": 2
}
