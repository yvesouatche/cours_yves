{
 "cells": [
  {
   "cell_type": "markdown",
   "metadata": {},
   "source": [
    "### Lists"
   ]
  },
  {
   "cell_type": "markdown",
   "metadata": {},
   "source": [
    "#### Exemples"
   ]
  },
  {
   "cell_type": "markdown",
   "metadata": {},
   "source": [
    "Une liste est une collection d'éléments, qui est stockée dans une variable. Les éléments doivent être liés d'une manière ou d'une autre, mais il n'y a aucune restriction sur ce qui peut être stocké dans une liste.\n",
    "\n",
    "Les listes étant des collections d'objets, il est bon de leur donner un nom au pluriel. Si chaque élément de votre liste est une voiture, appelez votre liste \"voitures\". En Python, les crochets désignent une liste. Pour définir une liste, vous donnez le nom de la liste, le signe égal et les valeurs que vous voulez inclure dans votre liste entre crochets.\n",
    "\n",
    "Exemple de liste vide: L=[ ] , liste avec des éléments L=[‘Adam', ‘Yves', 'cody']\n"
   ]
  },
  {
   "cell_type": "code",
   "execution_count": 17,
   "metadata": {},
   "outputs": [],
   "source": [
    "f=\"boujour maman comment vas-tu\"\n",
    "h=f.split()"
   ]
  },
  {
   "cell_type": "code",
   "execution_count": 18,
   "metadata": {},
   "outputs": [
    {
     "data": {
      "text/plain": [
       "['boujour', 'maman', 'comment', 'vas-tu']"
      ]
     },
     "execution_count": 18,
     "metadata": {},
     "output_type": "execute_result"
    }
   ],
   "source": [
    "h"
   ]
  },
  {
   "cell_type": "code",
   "execution_count": 19,
   "metadata": {},
   "outputs": [
    {
     "name": "stdout",
     "output_type": "stream",
     "text": [
      "['pomme', 'banane', 'tomate']\n"
     ]
    }
   ],
   "source": [
    "# créé une liste\n",
    "lalist = [\"pomme\", \"banane\", \"tomate\"]\n",
    "print(lalist)"
   ]
  },
  {
   "cell_type": "code",
   "execution_count": 22,
   "metadata": {},
   "outputs": [
    {
     "data": {
      "text/plain": [
       "'b'"
      ]
     },
     "execution_count": 22,
     "metadata": {},
     "output_type": "execute_result"
    }
   ],
   "source": [
    "# Selection d'un element en utilisant les indices (indexation)\n",
    "x = [\"a\", \"b\", \"c\", \"d\"]\n",
    "x[1]\n",
    "#x[-3] # meme resultat"
   ]
  },
  {
   "cell_type": "code",
   "execution_count": 23,
   "metadata": {},
   "outputs": [
    {
     "data": {
      "text/plain": [
       "'d'"
      ]
     },
     "execution_count": 23,
     "metadata": {},
     "output_type": "execute_result"
    }
   ],
   "source": [
    "# avoir l'élément \"d\"\n",
    "x[3]"
   ]
  },
  {
   "cell_type": "code",
   "execution_count": 24,
   "metadata": {},
   "outputs": [
    {
     "data": {
      "text/plain": [
       "'d'"
      ]
     },
     "execution_count": 24,
     "metadata": {},
     "output_type": "execute_result"
    }
   ],
   "source": [
    "x[-1]"
   ]
  },
  {
   "cell_type": "code",
   "execution_count": 25,
   "metadata": {},
   "outputs": [
    {
     "data": {
      "text/plain": [
       "['a', 'b', 'c', 'd']"
      ]
     },
     "execution_count": 25,
     "metadata": {},
     "output_type": "execute_result"
    }
   ],
   "source": [
    "x"
   ]
  },
  {
   "cell_type": "code",
   "execution_count": 26,
   "metadata": {},
   "outputs": [
    {
     "data": {
      "text/plain": [
       "['x', 'b', 'c', 'd']"
      ]
     },
     "execution_count": 26,
     "metadata": {},
     "output_type": "execute_result"
    }
   ],
   "source": [
    "# replacé \"a\" avec 'x'\n",
    "x[0] = 'x'\n",
    "x"
   ]
  },
  {
   "cell_type": "code",
   "execution_count": 27,
   "metadata": {},
   "outputs": [
    {
     "data": {
      "text/plain": [
       "['x', 'b', 'c', 'd', 1, 3, 4]"
      ]
     },
     "execution_count": 27,
     "metadata": {},
     "output_type": "execute_result"
    }
   ],
   "source": [
    "x = x + [1, 3, 4]\n",
    "x"
   ]
  },
  {
   "cell_type": "code",
   "execution_count": 28,
   "metadata": {},
   "outputs": [
    {
     "data": {
      "text/plain": [
       "['x', 'b', 'c', 'd', 1, 3, 4, 100]"
      ]
     },
     "execution_count": 28,
     "metadata": {},
     "output_type": "execute_result"
    }
   ],
   "source": [
    "# en utilisant la fonction append()\n",
    "x.append(100)\n",
    "x"
   ]
  },
  {
   "cell_type": "markdown",
   "metadata": {},
   "source": [
    "####   Exercices"
   ]
  },
  {
   "cell_type": "markdown",
   "metadata": {},
   "source": [
    "Créé une liste à partir des variables"
   ]
  },
  {
   "cell_type": "code",
   "execution_count": 1,
   "metadata": {},
   "outputs": [],
   "source": [
    "# les variables\n",
    "chien = 11\n",
    "chat = 18\n",
    "lion = 20\n",
    "lièvre = 10\n",
    "rat= 9\n",
    "\n",
    "# Créé une liste en utilisant ces variables\n",
    "# AJOUTE TON CODE ICI\n",
    "\n",
    "# Afficher la liste\n",
    "# AJOUTE TON CODE ICI\n"
   ]
  },
  {
   "cell_type": "markdown",
   "metadata": {},
   "source": [
    "Ajouté les éléments dans la liste"
   ]
  },
  {
   "cell_type": "code",
   "execution_count": 41,
   "metadata": {},
   "outputs": [
    {
     "data": {
      "text/plain": [
       "['hey', 'ici', 'comment', 'vas', 'tu']"
      ]
     },
     "execution_count": 41,
     "metadata": {},
     "output_type": "execute_result"
    }
   ],
   "source": [
    "a = ['bonjour', 'ici']\n",
    "\n",
    "# ajoute les éléments suivants dans la liste: 'comment', 'vas', 'tu'\n",
    "# AJOUTE TON CODE ICI\n",
    "\n",
    "# Affiche la nouvelle liste\n",
    "# AJOUTE TON CODE ICI\n",
    "\n",
    "# Maintenant, remplace 'bonjour' avec'hey' en utilisant l'indexation d'une liste\n",
    "# AJOUTE TON CODE ICI\n",
    "\n",
    "# Affiche la nouvelle liste\n",
    "# AJOUTE TON CODE ICI"
   ]
  },
  {
   "cell_type": "markdown",
   "metadata": {},
   "source": [
    "### Dictionnaries"
   ]
  },
  {
   "cell_type": "markdown",
   "metadata": {},
   "source": [
    "Les dictionnaires sont un moyen de stocker des informations qui sont connectées d'une certaine manière. Les dictionnaires stockent les informations sous forme de paires clé-valeur, de sorte que toute information contenue dans un dictionnaire est liée à au moins une autre information. \n",
    "\n",
    "Exemple: dictionnaire_vide= { };\n",
    "dictionnaire = {clé_1: valeur_1, clé_2: valeur_2, clé_3: valeur_3}\n"
   ]
  },
  {
   "cell_type": "code",
   "execution_count": 2,
   "metadata": {},
   "outputs": [
    {
     "name": "stdout",
     "output_type": "stream",
     "text": [
      "{'marque': 'Ford', 'modèle': 'Mustang', 'année': 1964}\n",
      "{'marque': 'Ford', 'modèle': 'Mustang', 'année': 2018}\n"
     ]
    }
   ],
   "source": [
    "# Créé un dictionnair\n",
    "ledict = {\n",
    "  \"marque\": \"Ford\",\n",
    "  \"modèle\": \"Mustang\",\n",
    "  \"année\": 1964\n",
    "}\n",
    "print(ledict)\n",
    "\n",
    "# Accedé aux elements du dictionnaire\n",
    "x = ledict[\"modèle\"]\n",
    "x1 = ledict.get('modèle')\n",
    "x == x1\n",
    "\n",
    "# Changé de valeur\n",
    "ledict[\"année\"] = 2018\n",
    "print(ledict)"
   ]
  },
  {
   "cell_type": "code",
   "execution_count": 3,
   "metadata": {},
   "outputs": [
    {
     "name": "stdout",
     "output_type": "stream",
     "text": [
      "None\n"
     ]
    }
   ],
   "source": [
    "x = ledict.get(\"Sakayo\")\n",
    "print(x)\n"
   ]
  },
  {
   "cell_type": "code",
   "execution_count": 45,
   "metadata": {},
   "outputs": [
    {
     "data": {
      "text/plain": [
       "dict_keys(['marque', 'modèle', 'année'])"
      ]
     },
     "execution_count": 45,
     "metadata": {},
     "output_type": "execute_result"
    }
   ],
   "source": [
    "ledict.keys()"
   ]
  },
  {
   "cell_type": "code",
   "execution_count": 46,
   "metadata": {},
   "outputs": [
    {
     "data": {
      "text/plain": [
       "dict_values(['Ford', 'Mustang', 2018])"
      ]
     },
     "execution_count": 46,
     "metadata": {},
     "output_type": "execute_result"
    }
   ],
   "source": [
    "ledict.values()"
   ]
  },
  {
   "cell_type": "code",
   "execution_count": 47,
   "metadata": {},
   "outputs": [
    {
     "data": {
      "text/plain": [
       "'Mustang'"
      ]
     },
     "execution_count": 47,
     "metadata": {},
     "output_type": "execute_result"
    }
   ],
   "source": [
    "ledict[\"modèle\"]\n",
    "ledict.get('modèle')"
   ]
  },
  {
   "cell_type": "code",
   "execution_count": 48,
   "metadata": {},
   "outputs": [
    {
     "data": {
      "text/plain": [
       "{'marque': 'Ford', 'modèle': 'Mustang', 'année': 2018, 'Coleur': 'Bleue'}"
      ]
     },
     "execution_count": 48,
     "metadata": {},
     "output_type": "execute_result"
    }
   ],
   "source": [
    "ledict['Coleur'] = 'Bleue'\n",
    "ledict"
   ]
  },
  {
   "cell_type": "markdown",
   "metadata": {},
   "source": [
    "### Tuples"
   ]
  },
  {
   "cell_type": "markdown",
   "metadata": {},
   "source": [
    "Les tuples sont essentiellement des listes qui ne peuvent jamais être modifiées. Les listes sont assez dynamiques ; elles peuvent s'allonger lorsque vous ajoutez et insérez des éléments, et elles peuvent rétrécir lorsque vous supprimez des éléments. Vous pouvez modifier n'importe quel élément d'une liste. Parfois, nous aimons ce comportement, mais d'autres fois, nous voulons nous assurer qu'aucun utilisateur ou aucune partie d'un programme ne peut modifier une liste. C'est à cela que servent les tuples. Techniquement, les listes sont des objets mutables et les tuples sont des objets immuables. Les objets mutables peuvent changer (pensez aux mutations), et les objets immuables ne peuvent pas changer.\n",
    "\n",
    "\n",
    "Exemple: tuple_vide=( ) ,   colors = ('red', 'green', 'blue')\n"
   ]
  },
  {
   "cell_type": "code",
   "execution_count": 49,
   "metadata": {},
   "outputs": [
    {
     "name": "stdout",
     "output_type": "stream",
     "text": [
      "The first color is: rouge\n",
      "\n",
      "The available colors are:\n",
      "- rouge\n",
      "- verte\n",
      "- bleue\n"
     ]
    }
   ],
   "source": [
    "colors = ('rouge', 'verte', 'bleue')\n",
    "print(\"The first color is: \" + colors[0])\n",
    "\n",
    "print(\"\\nThe available colors are:\")\n",
    "for color in colors:\n",
    "    print(\"- \" + color)"
   ]
  },
  {
   "cell_type": "markdown",
   "metadata": {},
   "source": [
    "Si tu essaies d'ajouter un élement au tuple, tu aura une erreur (immutable)"
   ]
  },
  {
   "cell_type": "code",
   "execution_count": 50,
   "metadata": {},
   "outputs": [
    {
     "ename": "AttributeError",
     "evalue": "'tuple' object has no attribute 'append'",
     "output_type": "error",
     "traceback": [
      "\u001b[1;31m---------------------------------------------------------------------------\u001b[0m",
      "\u001b[1;31mAttributeError\u001b[0m                            Traceback (most recent call last)",
      "\u001b[1;32m<ipython-input-50-fbbf1627616c>\u001b[0m in \u001b[0;36m<module>\u001b[1;34m\u001b[0m\n\u001b[0;32m      1\u001b[0m \u001b[0mcolors\u001b[0m \u001b[1;33m=\u001b[0m \u001b[1;33m(\u001b[0m\u001b[1;34m'rouge'\u001b[0m\u001b[1;33m,\u001b[0m \u001b[1;34m'verte'\u001b[0m\u001b[1;33m,\u001b[0m \u001b[1;34m'bleue'\u001b[0m\u001b[1;33m)\u001b[0m\u001b[1;33m\u001b[0m\u001b[1;33m\u001b[0m\u001b[0m\n\u001b[1;32m----> 2\u001b[1;33m \u001b[0mcolors\u001b[0m\u001b[1;33m.\u001b[0m\u001b[0mappend\u001b[0m\u001b[1;33m(\u001b[0m\u001b[1;34m'jaune'\u001b[0m\u001b[1;33m)\u001b[0m\u001b[1;33m\u001b[0m\u001b[1;33m\u001b[0m\u001b[0m\n\u001b[0m",
      "\u001b[1;31mAttributeError\u001b[0m: 'tuple' object has no attribute 'append'"
     ]
    }
   ],
   "source": [
    "colors = ('rouge', 'verte', 'bleue')\n",
    "colors.append('jaune')"
   ]
  },
  {
   "cell_type": "markdown",
   "metadata": {},
   "source": [
    "C'est la meme chose quand tu veux enlever un élément ou modifier. Quand tu defini un tuple, tu ne peux plus changer"
   ]
  },
  {
   "cell_type": "markdown",
   "metadata": {},
   "source": [
    "### Sets"
   ]
  },
  {
   "cell_type": "code",
   "execution_count": 53,
   "metadata": {},
   "outputs": [
    {
     "name": "stdout",
     "output_type": "stream",
     "text": [
      "['cercle', 'carré', 'triangle', 'cercle']\n"
     ]
    },
    {
     "data": {
      "text/plain": [
       "{'carré', 'cercle', 'triangle'}"
      ]
     },
     "execution_count": 53,
     "metadata": {},
     "output_type": "execute_result"
    }
   ],
   "source": [
    "shapes = ['cercle','carré','triangle','cercle']\n",
    "print(shapes)\n",
    "set_of_shapes = set(shapes)\n",
    "set_of_shapes"
   ]
  },
  {
   "cell_type": "code",
   "execution_count": 54,
   "metadata": {},
   "outputs": [
    {
     "name": "stdout",
     "output_type": "stream",
     "text": [
      "{'cercle', 'polygon', 'triangle', 'carré'}\n"
     ]
    }
   ],
   "source": [
    "set_of_shapes.add('polygon') \n",
    "print(set_of_shapes)"
   ]
  },
  {
   "cell_type": "code",
   "execution_count": 55,
   "metadata": {},
   "outputs": [
    {
     "data": {
      "text/plain": [
       "{'cercle', 'triangle'}"
      ]
     },
     "execution_count": 55,
     "metadata": {},
     "output_type": "execute_result"
    }
   ],
   "source": [
    "favourites_shapes = set(['cercle','triangle','hexagone'])\n",
    "\n",
    "# Intersection\n",
    "set_of_shapes.intersection(favourites_shapes)"
   ]
  },
  {
   "cell_type": "code",
   "execution_count": 56,
   "metadata": {},
   "outputs": [
    {
     "data": {
      "text/plain": [
       "{'carré', 'cercle', 'hexagone', 'polygon', 'triangle'}"
      ]
     },
     "execution_count": 56,
     "metadata": {},
     "output_type": "execute_result"
    }
   ],
   "source": [
    "# Union\n",
    "set_of_shapes.union(favourites_shapes)"
   ]
  },
  {
   "cell_type": "code",
   "execution_count": 10,
   "metadata": {},
   "outputs": [
    {
     "data": {
      "text/plain": [
       "{'carré', 'polygon'}"
      ]
     },
     "execution_count": 10,
     "metadata": {},
     "output_type": "execute_result"
    }
   ],
   "source": [
    "# Difference\n",
    "set_of_shapes.difference(favourites_shapes)"
   ]
  },
  {
   "cell_type": "code",
   "execution_count": null,
   "metadata": {},
   "outputs": [],
   "source": [
    "pip install --upgrade --user nbconvert"
   ]
  }
 ],
 "metadata": {
  "kernelspec": {
   "display_name": "Python 3",
   "language": "python",
   "name": "python3"
  },
  "language_info": {
   "codemirror_mode": {
    "name": "ipython",
    "version": 3
   },
   "file_extension": ".py",
   "mimetype": "text/x-python",
   "name": "python",
   "nbconvert_exporter": "python",
   "pygments_lexer": "ipython3",
   "version": "3.7.6"
  }
 },
 "nbformat": 4,
 "nbformat_minor": 2
}
