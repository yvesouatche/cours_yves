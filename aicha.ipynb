{
 "cells": [
  {
   "cell_type": "code",
   "execution_count": 4,
   "metadata": {},
   "outputs": [
    {
     "name": "stdout",
     "output_type": "stream",
     "text": [
      "entrer la cléNassir\n",
      "False\n"
     ]
    }
   ],
   "source": [
    "Etudiant={\"nom\":\"Nassir\",\"poids\":60}\n",
    "a=input(\"entrer la clé\")\n",
    "if a in Etudiant:\n",
    "    print(\"True\")\n",
    "else:\n",
    "    print(\"False\")"
   ]
  },
  {
   "cell_type": "code",
   "execution_count": 5,
   "metadata": {},
   "outputs": [
    {
     "name": "stdout",
     "output_type": "stream",
     "text": [
      "true\n",
      "true\n",
      "true\n"
     ]
    }
   ],
   "source": [
    "d={1:2,3:4,5:6}\n",
    "def fonc_cle(a):\n",
    "    for a in d:\n",
    "        if a in d:\n",
    "            print(\"true\")\n",
    "        else:\n",
    "            print(\"false\")\n",
    "fonc_cle(7)"
   ]
  },
  {
   "cell_type": "code",
   "execution_count": 3,
   "metadata": {},
   "outputs": [
    {
     "name": "stdout",
     "output_type": "stream",
     "text": [
      "la clé n'est pas dans le dictionnaire\n"
     ]
    }
   ],
   "source": [
    "d={1:2,3:4,5:6}\n",
    "def fonc_cle(a):\n",
    "    if a in d:\n",
    "        print(\"la clé est dans le dictionnaire\")\n",
    "    else:\n",
    "        print(\"la clé n'est pas dans le dictionnaire\")\n",
    "fonc_cle(7)"
   ]
  },
  {
   "cell_type": "code",
   "execution_count": 2,
   "metadata": {},
   "outputs": [
    {
     "name": "stdout",
     "output_type": "stream",
     "text": [
      "True\n"
     ]
    }
   ],
   "source": [
    "print(Etudiant.__contains__(\"nom\"))"
   ]
  },
  {
   "cell_type": "code",
   "execution_count": 10,
   "metadata": {},
   "outputs": [
    {
     "name": "stdout",
     "output_type": "stream",
     "text": [
      "4 6\n"
     ]
    }
   ],
   "source": [
    "tuple=(1,2,3,4,6,7,9,10)\n",
    "print(tuple[3],tuple[-4])\n"
   ]
  },
  {
   "cell_type": "code",
   "execution_count": null,
   "metadata": {},
   "outputs": [],
   "source": []
  }
 ],
 "metadata": {
  "kernelspec": {
   "display_name": "Python 3",
   "language": "python",
   "name": "python3"
  },
  "language_info": {
   "codemirror_mode": {
    "name": "ipython",
    "version": 3
   },
   "file_extension": ".py",
   "mimetype": "text/x-python",
   "name": "python",
   "nbconvert_exporter": "python",
   "pygments_lexer": "ipython3",
   "version": "3.7.6"
  }
 },
 "nbformat": 4,
 "nbformat_minor": 4
}
