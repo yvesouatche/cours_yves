{
 "cells": [
  {
   "cell_type": "markdown",
   "metadata": {},
   "source": [
    "### Formateur: SAKAYO TOADOUM SARI\n",
    "\n",
    "###### Base de la programmation python\n",
    "\n",
    "#######"
   ]
  },
  {
   "cell_type": "markdown",
   "metadata": {},
   "source": [
    "<a name='Fonctions'></a>Fonctions\n",
    "==="
   ]
  },
  {
   "cell_type": "markdown",
   "metadata": {},
   "source": [
    "Les fonctions sont un ensemble d'actions que nous regroupons et auxquelles nous donnons un nom. Vous avez déjà utilisé un certain nombre de fonctions du langage Python de base, telles que *string.title()* et *list.sort()*. Nous pouvons définir nos propres fonctions, ce qui nous permet \"d'enseigner\" à Python un nouveau comportement."
   ]
  },
  {
   "cell_type": "markdown",
   "metadata": {},
   "source": [
    "<a name='general_syntax'></a>Syntaxe\n",
    "---\n",
    "De maniere générale, la structure d'une fonction se présente comme suit:"
   ]
  },
  {
   "cell_type": "code",
   "execution_count": null,
   "metadata": {},
   "outputs": [],
   "source": [
    "# Définissons une fonction.\n",
    "def nom_fonction(argument_1, argument_2) :\n",
    "    # Faisons ce que nous voulons que cette fonction fasse,\n",
    "    # en utilisant argument_1 et argument_2\n",
    "\n",
    "# Utilisons nom_fonction pour appeler la fonction.\n",
    "nom_fonction(valeur_1, valeur_2)"
   ]
  },
  {
   "cell_type": "markdown",
   "metadata": {},
   "source": [
    "Ce code ne s'exécutera pas, mais il montre comment les fonctions sont utilisées en général."
   ]
  },
  {
   "cell_type": "markdown",
   "metadata": {},
   "source": [
    "- **Définition d'une fonction**\n",
    "    - Donnez le mot-clé `def`, qui indique à Python que vous êtes sur le point de *définir* une fonction.\n",
    "    - Donnez un nom à votre fonction. La variable nom vous indique le type de valeur que contient la variable ; un nom de fonction doit vous indiquer ce que fait la fonction.\n",
    "    - Donnez un nom à chaque valeur dont la fonction a besoin pour effectuer son travail.\n",
    "        - Il s'agit essentiellement de noms de variables, mais ils ne sont utilisés que dans la fonction.\n",
    "        - Ces noms peuvent être différents de ceux que vous utilisez dans le reste de votre programme.\n",
    "        - On les appelle les *arguments* de la fonction.\n",
    "    - Assurez-vous que la ligne de définition de la fonction se termine par deux points.\n",
    "    - À l'intérieur de la fonction, écrivez tout le code dont vous avez besoin pour que la fonction fasse son travail."
   ]
  },
  {
   "cell_type": "markdown",
   "metadata": {},
   "source": [
    "- **Utilisation de votre fonction**\n",
    "    - Pour *appeler* votre fonction, écrivez son nom suivi de parenthèses.\n",
    "    - A l'intérieur des parenthèses, donnez les valeurs avec lesquelles vous voulez que la fonction travaille.\n",
    "        - Il peut s'agir de variables telles que `current_name` et `current_age`, ou de valeurs réelles telles que 'Djalabi' et 22."
   ]
  },
  {
   "cell_type": "markdown",
   "metadata": {},
   "source": [
    "<a name='exemples'></a>Exemples de base\n",
    "===\n",
    "Pour un premier exemple simple, nous allons nous intéresser à un programme qui complimente les gens. Regardons l'exemple, et essayons ensuite de comprendre le code. Nous allons d'abord regarder une version de ce programme telle que nous l'aurions écrite précédemment, sans fonctions."
   ]
  },
  {
   "cell_type": "code",
   "execution_count": 2,
   "metadata": {},
   "outputs": [
    {
     "name": "stdout",
     "output_type": "stream",
     "text": [
      "You are doing good work, Mariana!\n",
      "Thank you very much for your efforts on this project.\n",
      "\n",
      "You are doing good work, Aicha!\n",
      "Thank you very much for your efforts on this project.\n",
      "\n",
      "You are doing good work, Clotilde!\n",
      "Thank you very much for your efforts on this project.\n"
     ]
    }
   ],
   "source": [
    "print(\"You are doing good work, Mariana!\")\n",
    "print(\"Thank you very much for your efforts on this project.\")\n",
    "\n",
    "print(\"\\nYou are doing good work, Aicha!\")\n",
    "print(\"Thank you very much for your efforts on this project.\")\n",
    "\n",
    "print(\"\\nYou are doing good work, Clotilde!\")\n",
    "print(\"Thank you very much for your efforts on this project.\")"
   ]
  },
  {
   "cell_type": "markdown",
   "metadata": {},
   "source": [
    "Les fonctions prennent du code répété, le placent à un seul endroit, puis vous appelez ce code lorsque vous voulez l'utiliser. Voici à quoi ressemble le même programme avec une fonction."
   ]
  },
  {
   "cell_type": "code",
   "execution_count": 1,
   "metadata": {},
   "outputs": [
    {
     "name": "stdout",
     "output_type": "stream",
     "text": [
      "\n",
      "You are doing good work, Maria!\n",
      "Thank you very much for your efforts on this project.\n",
      "\n",
      "You are doing good work, Aicha!\n",
      "Thank you very much for your efforts on this project.\n",
      "\n",
      "You are doing good work, Clotilde!\n",
      "Thank you very much for your efforts on this project.\n"
     ]
    }
   ],
   "source": [
    "def thank_you(name):\n",
    "    # cette fonction affiche deux ligne personalisée de thank you message.\n",
    "    print(\"\\nYou are doing good work, %s!\" % name)\n",
    "    print(\"Thank you very much for your efforts on this project.\")\n",
    "    \n",
    "thank_you('Maria')\n",
    "thank_you('Aicha')\n",
    "thank_you('Clotilde')"
   ]
  },
  {
   "cell_type": "markdown",
   "metadata": {},
   "source": [
    "Dans notre code original, chaque paire d'instructions print était exécutée trois fois, et la seule différence était le nom de la personne remerciée. Lorsque vous constatez une telle répétition, vous pouvez généralement rendre votre programme plus efficace en définissant une fonction."
   ]
  },
  {
   "cell_type": "markdown",
   "metadata": {},
   "source": [
    "Le mot-clé *def* indique à Python que nous sommes sur le point de définir une fonction. Nous donnons un nom à notre fonction, *thank\\_you()* dans ce cas. Le nom d'une variable doit nous indiquer le type d'information qu'elle contient ; le nom d'une fonction doit nous indiquer ce que fait la variable.  Nous mettons ensuite des parenthèses. À l'intérieur de ces parenthèses, nous créons des noms de variables pour toutes les variables que la fonction devra recevoir afin de faire son travail. Dans ce cas, la fonction aura besoin d'un nom à inclure dans le message de remerciement. La variable `name` contiendra la valeur qui est passée dans la fonction *thank\\_you()*.\n"
   ]
  },
  {
   "cell_type": "markdown",
   "metadata": {},
   "source": [
    "Pour utiliser une fonction, nous lui donnons son nom, puis nous lui attribuons les valeurs dont elle a besoin pour effectuer son travail. Dans ce cas, nous appelons la fonction trois fois, en lui donnant à chaque fois un nom différent."
   ]
  },
  {
   "cell_type": "markdown",
   "metadata": {},
   "source": [
    "### Une erreur courante\n",
    "Une fonction doit être définie avant d'être utilisée dans votre programme. Par exemple, placer la fonction à la fin du programme ne fonctionnerait pas."
   ]
  },
  {
   "cell_type": "code",
   "execution_count": 1,
   "metadata": {},
   "outputs": [
    {
     "ename": "NameError",
     "evalue": "name 'thank_you' is not defined",
     "output_type": "error",
     "traceback": [
      "\u001b[1;31m---------------------------------------------------------------------------\u001b[0m",
      "\u001b[1;31mNameError\u001b[0m                                 Traceback (most recent call last)",
      "\u001b[1;32m<ipython-input-1-b6715c4ad356>\u001b[0m in \u001b[0;36m<module>\u001b[1;34m\u001b[0m\n\u001b[1;32m----> 1\u001b[1;33m \u001b[0mthank_you\u001b[0m\u001b[1;33m(\u001b[0m\u001b[1;34m'Mariana'\u001b[0m\u001b[1;33m)\u001b[0m\u001b[1;33m\u001b[0m\u001b[1;33m\u001b[0m\u001b[0m\n\u001b[0m\u001b[0;32m      2\u001b[0m \u001b[0mthank_you\u001b[0m\u001b[1;33m(\u001b[0m\u001b[1;34m'Aicha'\u001b[0m\u001b[1;33m)\u001b[0m\u001b[1;33m\u001b[0m\u001b[1;33m\u001b[0m\u001b[0m\n\u001b[0;32m      3\u001b[0m \u001b[0mthank_you\u001b[0m\u001b[1;33m(\u001b[0m\u001b[1;34m'Clotilde'\u001b[0m\u001b[1;33m)\u001b[0m\u001b[1;33m\u001b[0m\u001b[1;33m\u001b[0m\u001b[0m\n\u001b[0;32m      4\u001b[0m \u001b[1;33m\u001b[0m\u001b[0m\n\u001b[0;32m      5\u001b[0m \u001b[1;32mdef\u001b[0m \u001b[0mthank_you\u001b[0m\u001b[1;33m(\u001b[0m\u001b[0mname\u001b[0m\u001b[1;33m)\u001b[0m\u001b[1;33m:\u001b[0m\u001b[1;33m\u001b[0m\u001b[1;33m\u001b[0m\u001b[0m\n",
      "\u001b[1;31mNameError\u001b[0m: name 'thank_you' is not defined"
     ]
    }
   ],
   "source": [
    "thank_you('Mariana')\n",
    "thank_you('Aicha')\n",
    "thank_you('Clotilde')\n",
    "\n",
    "def thank_you(name):\n",
    "    # cette fonction affiche deux ligne personalisée de thank you message.\n",
    "    print(\"\\nYou are doing good work, %s!\" % name)\n",
    "    print(\"Thank you very much for your efforts on this project.\")"
   ]
  },
  {
   "cell_type": "markdown",
   "metadata": {},
   "source": [
    "Sur la première ligne, nous demandons à Python d'exécuter la fonction *thank\\_you()*, mais Python ne connais pas encore la fonction à exécuter. Nous définissons nos fonctions au début de nos programmes, et nous pouvons ensuite les utiliser quand nous en avons besoin."
   ]
  },
  {
   "cell_type": "markdown",
   "metadata": {},
   "source": [
    "Un deuxième exemple\n",
    "---\n",
    "Lorsque nous voulons par exemple faire le [tri d'une liste] , notre code sera très répétitif. Il faut deux lignes de code pour imprimer une liste à l'aide d'une boucle for, et ces deux lignes sont donc répétées chaque fois que vous voulez imprimer le contenu d'une liste. C'est l'occasion idéale d'utiliser une fonction, voyons donc à quoi ressemble le code avec une fonction.\n",
    "\n",
    "Tout d'abord, voyons le code que nous avions sans fonction :"
   ]
  },
  {
   "cell_type": "code",
   "execution_count": 8,
   "metadata": {},
   "outputs": [
    {
     "name": "stdout",
     "output_type": "stream",
     "text": [
      "Our students are currently in alphabetical order.\n",
      "Cendrillon\n",
      "Edwige\n",
      "Mariam\n",
      "Ronelyam\n",
      "\n",
      "Our students are now in reverse alphabetical order.\n",
      "Ronelyam\n",
      "Mariam\n",
      "Edwige\n",
      "Cendrillon\n"
     ]
    }
   ],
   "source": [
    "students = ['Mariam', 'Cendrillon', 'Ronelyam', 'Edwige']\n",
    "\n",
    "# Classez les élèves par ordre alphabétique.\n",
    "students.sort()\n",
    "\n",
    "# Affiche la liste dans son ordre actuel.\n",
    "print(\"Our students are currently in alphabetical order.\")\n",
    "for student in students:\n",
    "    print(student.title())\n",
    "\n",
    "# Affiche les étudiants dans l'ordre alphabétique inverse.\n",
    "students.sort(reverse=True)\n",
    "\n",
    "# Affichez la liste dans son ordre actuel.\n",
    "print(\"\\nOur students are now in reverse alphabetical order.\")\n",
    "for student in students:\n",
    "    print(student.title())"
   ]
  },
  {
   "cell_type": "markdown",
   "metadata": {},
   "source": [
    "Voici à quoi ressemble le même code, en utilisant une fonction pour imprimer la liste :"
   ]
  },
  {
   "cell_type": "code",
   "execution_count": 11,
   "metadata": {},
   "outputs": [
    {
     "name": "stdout",
     "output_type": "stream",
     "text": [
      "Our students are currently in alphabetical order.\n",
      "Cendrillon\n",
      "Edwige\n",
      "Mariam\n",
      "Ronelyam\n",
      "\n",
      "Our students are now in reverse alphabetical order.\n",
      "Ronelyam\n",
      "Mariam\n",
      "Edwige\n",
      "Cendrillon\n"
     ]
    }
   ],
   "source": [
    "def show_students(students, message):\n",
    "    # affiche un message, et ensuite la liste des étudiants\n",
    "    print(message)\n",
    "    for student in students:\n",
    "        print(student.title())\n",
    "\n",
    "students = ['Mariam', 'Cendrillon', 'Ronelyam', 'Edwige']\n",
    "\n",
    "# Affiche les étudiants par ordre alphabétique\n",
    "students.sort()\n",
    "show_students(students, \"Our students are currently in alphabetical order.\")\n",
    "\n",
    "# Affiche les étudiants dans l'ordre alphabétique inverse.\n",
    "students.sort(reverse=True)\n",
    "show_students(students, \"\\nOur students are now in reverse alphabetical order.\")"
   ]
  },
  {
   "cell_type": "markdown",
   "metadata": {},
   "source": [
    "Ce code est beaucoup plus propre. Nous avons une action à réaliser, qui consiste à afficher les étudiants de notre liste avec un message. Nous donnons un nom à cette action, *show\\_students()*. \n",
    "\n",
    "Cette fonction a besoin de deux éléments d'information pour faire son travail, la liste des étudiants et un message à afficher. À l'intérieur de la fonction, le code permettant d'imprimer le message et de parcourir la liste en boucle est exactement le même que dans le code de la non-fonction.\n",
    "\n",
    "Maintenant, le reste de notre programme est plus propre, car il se concentre sur les éléments que nous modifions dans la liste, plutôt que d'avoir du code pour imprimer la liste. Nous définissons la liste, puis nous la trions et appelons notre fonction pour imprimer la liste. Nous la trions à nouveau, puis nous appelons la fonction d'impression une deuxième fois, avec un message différent. Ce code est beaucoup plus lisible."
   ]
  },
  {
   "cell_type": "markdown",
   "metadata": {},
   "source": [
    "### Avantages de l'utilisation des fonctions\n",
    "Cet exemple vous permettra peut-être de voir les avantages de l'utilisation des fonctions :\n",
    "\n",
    "- Nous écrivons un ensemble d'instructions une seule fois. Nous économisons du travail dans cet exemple simple, et nous économisons encore plus de travail dans les programmes plus importants."
   ]
  },
  {
   "cell_type": "markdown",
   "metadata": {},
   "source": [
    "- Lorsque notre fonction fonctionne, nous n'avons plus à nous soucier de ce code. Chaque fois que nous répétions du code dans notre programme, nous introduisions une possibilité de faire une erreur. Écrire une fonction signifie qu'il n'y a qu'un seul endroit pour corriger les erreurs, et lorsque ces erreurs sont corrigées, nous pouvons être sûrs que cette fonction continuera à fonctionner correctement."
   ]
  },
  {
   "cell_type": "markdown",
   "metadata": {},
   "source": [
    "- Nous pouvons modifier le comportement de notre fonction, et ce changement prend effet chaque fois que la fonction est appelée. C'est bien mieux que de décider que nous avons besoin d'un nouveau comportement, et de devoir ensuite modifier le code à de nombreux endroits différents de notre programme."
   ]
  },
  {
   "cell_type": "markdown",
   "metadata": {},
   "source": [
    "Pour un exemple rapide, disons que nous décidons que notre sortie imprimée serait meilleure avec une forme de liste à puces. Sans fonctions, nous devrions modifier chaque instruction d'impression. Avec une fonction, nous ne modifions que l'instruction d'impression dans la fonction :"
   ]
  },
  {
   "cell_type": "code",
   "execution_count": 13,
   "metadata": {},
   "outputs": [
    {
     "name": "stdout",
     "output_type": "stream",
     "text": [
      "Our students are currently in alphabetical order.\n",
      "- Cendrillon\n",
      "- Edwige\n",
      "- Mariam\n",
      "- Ronelyam\n",
      "\n",
      "Our students are now in reverse alphabetical order.\n",
      "- Ronelyam\n",
      "- Mariam\n",
      "- Edwige\n",
      "- Cendrillon\n"
     ]
    }
   ],
   "source": [
    "def show_students(students, message):\n",
    "    #affiche le message, et liste des étudiants\n",
    "    print(message)\n",
    "    for student in students:\n",
    "        print(\"- \" + student.title())\n",
    "\n",
    "students = ['Mariam', 'Cendrillon', 'Ronelyam', 'Edwige']\n",
    "\n",
    "# afficher les étudiants par ordre alphabétique\n",
    "students.sort()\n",
    "show_students(students, \"Our students are currently in alphabetical order.\")\n",
    "\n",
    "#afficher les étudiants par ordre alphabétique inversé.\n",
    "students.sort(reverse=True)\n",
    "show_students(students, \"\\nOur students are now in reverse alphabetical order.\")"
   ]
  },
  {
   "cell_type": "markdown",
   "metadata": {},
   "source": [
    "<a name='return_value'></a>Retourner une valeur\n",
    "---\n",
    "Chaque fonction que vous créez peut retourner une valeur. Cela peut être en plus du travail primaire de la fonction, ou cela peut être le travail principal de la fonction. La fonction suivante prend un nombre, et renvoie le mot correspondant à ce nombre :"
   ]
  },
  {
   "cell_type": "code",
   "execution_count": 20,
   "metadata": {},
   "outputs": [
    {
     "name": "stdout",
     "output_type": "stream",
     "text": [
      "0 None\n",
      "1 un\n",
      "2 deux\n",
      "3 trois\n"
     ]
    }
   ],
   "source": [
    "def get_number_word(nombre) :\n",
    "    # Prend une valeur numérique, et retourne\n",
    "    # le mot correspondant à ce nombre.\n",
    "    if nombre == 1 :\n",
    "        return 'un'\n",
    "    elif nombre == 2 :\n",
    "        return 'deux'\n",
    "    elif nombre == 3 :\n",
    "        return 'trois'\n",
    "    # ...\n",
    "    \n",
    "# Essayons notre fonction.\n",
    "for current_number in range(0,4):\n",
    "    number_word = get_number_word(current_number)\n",
    "    print(current_number, number_word)"
   ]
  },
  {
   "cell_type": "markdown",
   "metadata": {},
   "source": [
    "Il est parfois utile de voir des programmes qui ne fonctionnent pas tout à fait comme ils sont censés le faire, et de voir ensuite comment ces programmes peuvent être améliorés. Dans ce cas, il n'y a pas d'erreurs Python ; tout le code a une syntaxe Python correcte. Mais il y a une erreur logique, dans la première ligne de la sortie."
   ]
  },
  {
   "cell_type": "markdown",
   "metadata": {},
   "source": [
    "Nous voulons soit ne pas inclure 0 dans la plage que nous envoyons à la fonction, soit que la fonction renvoie autre chose que `None` lorsqu'elle reçoit une valeur qu'elle ne connaît pas. Apprenons à notre fonction le mot 'zéro', mais ajoutons aussi une clause `else` qui renvoie un message plus informatif pour les nombres qui ne sont pas dans la chaîne if."
   ]
  },
  {
   "cell_type": "code",
   "execution_count": 21,
   "metadata": {},
   "outputs": [
    {
     "name": "stdout",
     "output_type": "stream",
     "text": [
      "0 zéro\n",
      "1 un\n",
      "2 deux\n",
      "3 trois\n",
      "4 Je suis desolé, je ne connais pas le nombre.\n",
      "5 Je suis desolé, je ne connais pas le nombre.\n"
     ]
    }
   ],
   "source": [
    "def get_number_word(number):\n",
    "    # Prend une valeur numérique, et retourne\n",
    "    # le mot correspondant à ce nombre.\n",
    "    if number == 0:\n",
    "        return 'zéro'\n",
    "    elif number == 1:\n",
    "        return 'un'\n",
    "    elif number == 2:\n",
    "        return 'deux'\n",
    "    elif number == 3:\n",
    "        return 'trois'\n",
    "    else:\n",
    "        return \"Je suis desolé, je ne connais pas le nombre.\"\n",
    "    \n",
    "# Essayons notre fonction.\n",
    "for current_number in range(0,6):\n",
    "    number_word = get_number_word(current_number)\n",
    "    print(current_number, number_word)"
   ]
  },
  {
   "cell_type": "markdown",
   "metadata": {},
   "source": [
    "Si vous utilisez une instruction de retour dans l'une de vos fonctions, n'oubliez pas que la fonction cesse de s'exécuter dès qu'elle rencontre une instruction de retour. Par exemple, nous pouvons ajouter une ligne à la fonction *get\\_number\\_word()* qui ne sera jamais exécutée, car elle intervient après que la fonction a renvoyé une valeur :"
   ]
  },
  {
   "cell_type": "markdown",
   "metadata": {},
   "source": [
    "<a name='exercices'></a>Exercices\n",
    "---\n",
    "#### Salutation\n",
    "- Ecrivez une fonction qui prend le nom d'une personne, et imprime un message de salutation.\n",
    "    - Le message d'accueil doit comporter au moins trois lignes, et le nom de la personne doit figurer sur chaque ligne.\n",
    "- Utilisez votre fonction pour saluer au moins trois personnes différentes.\n",
    "- **Bonus:** Stockez vos trois personnes dans une liste, et appelez votre fonction depuis une boucle `for`.\n",
    "\n",
    "#### Noms complets\n",
    "- Écrivez une fonction qui prend un prénom et un nom de famille, et imprime un nom complet joliment formaté, dans une phrase. Votre phrase pourrait être aussi simple que \"Bonjour, *nom_complet*\".\n",
    "- Appelez votre fonction trois fois, avec un nom différent à chaque fois.\n",
    "\n",
    "#### Calculatrice d'additions\n",
    "- Écrivez une fonction qui prend deux nombres et les additionne. Faites en sorte que votre fonction imprime une phrase indiquant les deux nombres et le résultat.\n",
    "- Appelez votre fonction avec trois séries de chiffres différentes.\n",
    "\n",
    "#### Calculatrice de retour\n",
    "- Modifiez *Calculatrice d'addition* pour que votre fonction renvoie la somme des deux nombres. L'impression doit se faire en dehors de la fonction.\n"
   ]
  },
  {
   "cell_type": "code",
   "execution_count": null,
   "metadata": {},
   "outputs": [],
   "source": []
  }
 ],
 "metadata": {
  "kernelspec": {
   "display_name": "Python 3",
   "language": "python",
   "name": "python3"
  },
  "language_info": {
   "codemirror_mode": {
    "name": "ipython",
    "version": 3
   },
   "file_extension": ".py",
   "mimetype": "text/x-python",
   "name": "python",
   "nbconvert_exporter": "python",
   "pygments_lexer": "ipython3",
   "version": "3.7.6"
  }
 },
 "nbformat": 4,
 "nbformat_minor": 5
}
